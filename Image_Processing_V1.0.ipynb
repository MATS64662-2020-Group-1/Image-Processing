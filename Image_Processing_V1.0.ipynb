{
 "cells": [
  {
   "cell_type": "code",
   "execution_count": 83,
   "metadata": {},
   "outputs": [],
   "source": [
    "# please read:\n",
    "    # best to set e = 0.5, u = 0, and v = 100 to begin\n",
    "    # if no image shows up the image was converted to grayscale and set v < 1\n",
    "    # alter e and v accordinly until best resolution of grain boundaries is achieved \n",
    "    # set u to 0.9*v and alter if necessary\n",
    "\n",
    "def process_image(file, e, u, v, output):\n",
    "    \n",
    "    #import relavent packages and subpackages\n",
    "    import skimage\n",
    "    from skimage import io, filters\n",
    "    from skimage.color import rgb2gray\n",
    "    from skimage import exposure\n",
    "    from skimage.filters import sobel\n",
    "    from skimage.morphology import watershed\n",
    "    import numpy as np\n",
    "    \n",
    "    #read file\n",
    "    grains = io.imread(file)\n",
    "    \n",
    "    #check if rgb file and if so convert to grayscale\n",
    "    if len(grains.shape) == 3:\n",
    "        grayscale = rgb2gray(grains)\n",
    "    else:\n",
    "        grayscale = grains\n",
    "    \n",
    "    #adjust exposure\n",
    "    image = exposure.adjust_gamma(grayscale, e)\n",
    "    \n",
    "    #use sobel filter to isolate grains and seperate from grain boundaries\n",
    "    elevation_map = sobel(image)\n",
    "    markers = np.zeros_like(image)\n",
    "    markers[image < u ] = 1\n",
    "    markers[image > v ] = 2\n",
    "    \n",
    "    #watershed to binarise image\n",
    "    segmentation = watershed(elevation_map, markers)\n",
    "    \n",
    "    #save image to repository\n",
    "    io.imsave(output, segmentation)\n",
    "    \n",
    "    #show markers to fine-tune inputs\n",
    "    io.imshow(markers)\n",
    "    io.show()\n",
    "    return"
   ]
  }
 ],
 "metadata": {
  "kernelspec": {
   "display_name": "Python 3",
   "language": "python",
   "name": "python3"
  },
  "language_info": {
   "codemirror_mode": {
    "name": "ipython",
    "version": 3
   },
   "file_extension": ".py",
   "mimetype": "text/x-python",
   "name": "python",
   "nbconvert_exporter": "python",
   "pygments_lexer": "ipython3",
   "version": "3.7.6"
  }
 },
 "nbformat": 4,
 "nbformat_minor": 4
}
